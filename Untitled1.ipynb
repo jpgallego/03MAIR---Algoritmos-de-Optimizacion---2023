{
  "nbformat": 4,
  "nbformat_minor": 0,
  "metadata": {
    "colab": {
      "provenance": [],
      "toc_visible": true,
      "authorship_tag": "ABX9TyN5YdKuER8QMXU68bKij8iZ",
      "include_colab_link": true
    },
    "kernelspec": {
      "name": "python3",
      "display_name": "Python 3"
    },
    "language_info": {
      "name": "python"
    }
  },
  "cells": [
    {
      "cell_type": "markdown",
      "metadata": {
        "id": "view-in-github",
        "colab_type": "text"
      },
      "source": [
        "<a href=\"https://colab.research.google.com/github/jpgallego/03MAIR---Algoritmos-de-Optimizacion---2023/blob/main/Untitled1.ipynb\" target=\"_parent\"><img src=\"https://colab.research.google.com/assets/colab-badge.svg\" alt=\"Open In Colab\"/></a>"
      ]
    },
    {
      "cell_type": "code",
      "execution_count": null,
      "metadata": {
        "colab": {
          "base_uri": "https://localhost:8080/"
        },
        "id": "mbsCWWUAM4ss",
        "outputId": "6900535e-46ba-4879-f9ce-309bf7f81c8e"
      },
      "outputs": [
        {
          "output_type": "stream",
          "name": "stdout",
          "text": [
            "Collecting sorting\n",
            "  Downloading sorting-1.0.3.tar.gz (3.7 kB)\n",
            "  Preparing metadata (setup.py) ... \u001b[?25l\u001b[?25hdone\n",
            "Building wheels for collected packages: sorting\n",
            "  Building wheel for sorting (setup.py) ... \u001b[?25l\u001b[?25hdone\n",
            "  Created wheel for sorting: filename=sorting-1.0.3-py3-none-any.whl size=5861 sha256=c47a15c649bbfcfe5d7c294e3044fa5b5be653a0548f0bb60a0edd5b401a46a9\n",
            "  Stored in directory: /root/.cache/pip/wheels/be/29/6f/37bba489062514c58a40b6581a4fdb006cc01eb569eb6f9f35\n",
            "Successfully built sorting\n",
            "Installing collected packages: sorting\n",
            "Successfully installed sorting-1.0.3\n"
          ]
        }
      ],
      "source": [
        "!pip install sorting\n"
      ]
    },
    {
      "cell_type": "code",
      "source": [
        "import sorting\n",
        "lista = [4, 5, 32, 2, 53, 67, 23]\n",
        "lista_ordenada = sorting.bubble(lista)\n",
        "print(lista_ordenada)"
      ],
      "metadata": {
        "colab": {
          "base_uri": "https://localhost:8080/"
        },
        "id": "lqVy2WVlNT0p",
        "outputId": "79f3ee10-6559-400a-e95b-efe6fc828806"
      },
      "execution_count": null,
      "outputs": [
        {
          "output_type": "stream",
          "name": "stdout",
          "text": [
            "[2, 4, 5, 23, 32, 53, 67]\n"
          ]
        }
      ]
    }
  ]
}