{
  "nbformat": 4,
  "nbformat_minor": 0,
  "metadata": {
    "colab": {
      "provenance": [],
      "authorship_tag": "ABX9TyNxcsQgHwqqnEVKWk8u3tG2",
      "include_colab_link": true
    },
    "kernelspec": {
      "name": "python3",
      "display_name": "Python 3"
    },
    "language_info": {
      "name": "python"
    }
  },
  "cells": [
    {
      "cell_type": "markdown",
      "metadata": {
        "id": "view-in-github",
        "colab_type": "text"
      },
      "source": [
        "<a href=\"https://colab.research.google.com/github/jpgallego/03MAIR---Algoritmos-de-Optimizacion---2023/blob/main/Untitled0.ipynb\" target=\"_parent\"><img src=\"https://colab.research.google.com/assets/colab-badge.svg\" alt=\"Open In Colab\"/></a>"
      ]
    },
    {
      "cell_type": "code",
      "execution_count": 5,
      "metadata": {
        "colab": {
          "base_uri": "https://localhost:8080/"
        },
        "id": "vCdg68qYcyIj",
        "outputId": "4f9bf243-19f4-4f0c-cfd7-6cab6f9ce8a9"
      },
      "outputs": [
        {
          "output_type": "stream",
          "name": "stdout",
          "text": [
            "[2, 7, 13]\n",
            "[2, 7, 13]\n"
          ]
        }
      ],
      "source": [
        "A = [1,2,6,7,12,13,15]\n",
        "B = [2,3,4,7,13]\n",
        "C = []\n",
        "\n",
        "for i in A:\n",
        "  for j in B:\n",
        "    if i==j:\n",
        "      C.append(i)\n",
        "\n",
        "print(C)\n",
        "\n",
        "\n",
        "lista = [i for i in A if i in B]\n",
        "print(lista)"
      ]
    }
  ]
}