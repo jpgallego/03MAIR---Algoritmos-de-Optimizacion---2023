{
  "nbformat": 4,
  "nbformat_minor": 0,
  "metadata": {
    "colab": {
      "provenance": [],
      "include_colab_link": true
    },
    "kernelspec": {
      "name": "python3",
      "display_name": "Python 3"
    }
  },
  "cells": [
    {
      "cell_type": "markdown",
      "metadata": {
        "id": "view-in-github",
        "colab_type": "text"
      },
      "source": [
        "<a href=\"https://colab.research.google.com/github/jpgallego/03MAIR---Algoritmos-de-Optimizacion---2023/blob/main/JesusPedro_GallegoBerciano_Trabajo_Pr%C3%A1ctico_Algoritmos(V2).ipynb\" target=\"_parent\"><img src=\"https://colab.research.google.com/assets/colab-badge.svg\" alt=\"Open In Colab\"/></a>"
      ]
    },
    {
      "cell_type": "markdown",
      "metadata": {
        "id": "hVbXYX-RfPWh"
      },
      "source": [
        "# Algoritmos de optimización - Trabajo Práctico<br>\n",
        "Nombre y Apellidos: Jesus Pedro Gallego Berciano <br>\n",
        "Url: https://github.com/jpgallego/03MAIR---Algoritmos-de-Optimizacion---2023/blob/main/JesusPedro_GallegoBerciano_Trabajo_Pr%C3%A1ctico_Algoritmos(V2).ipynb<br>\n",
        "Google Colab: https://colab.research.google.com/drive/1dys8lzi_hVRC6OMhFM--8iLN9bgFoygb?usp=sharing <br>\n",
        "Problema:\n",
        ">1. Sesiones de doblaje <br>\n",
        "\n",
        "Descripción del problema:\n",
        "\n",
        "Se precisa coordinar el doblaje de una película. Los actores del doblaje deben coincidir en las\n",
        "tomas en las que sus personajes aparecen juntos en las diferentes tomas. Los actores de\n",
        "doblaje cobran todos la misma cantidad por cada día que deben desplazarse hasta el estudio de\n",
        "grabación independientemente del número de tomas que se graben. No es posible grabar más\n",
        "de 6 tomas por día. El objetivo es planificar las sesiones por día de manera que el gasto por los\n",
        "servicios de los actores de doblaje sea el menor posible.\n",
        "\n",
        "\n",
        "\n",
        "\n",
        "\n",
        "\n",
        "\n",
        "\n",
        "                                        "
      ]
    },
    {
      "cell_type": "markdown",
      "source": [
        "#Modelo\n",
        "- ¿Como represento el espacio de soluciones?\n",
        "- ¿Cual es la función objetivo?\n",
        "- ¿Como implemento las restricciones?"
      ],
      "metadata": {
        "id": "Sbo9IqQtpaHZ"
      }
    },
    {
      "cell_type": "markdown",
      "source": [
        "**Espacio de soluciones:**\n",
        "\n",
        "Genero un array de listas. En cada lista se encuentran las tomas a realizar en cada sesión.\n",
        "\n",
        "**Función objetivo:**\n",
        "\n",
        "Para cada sesión vemos el número de actores que deben acudir. Por ejemplo, si a la sesión 1 tiene que ir 10 actores para grabas las 6 tomas, el coste de ese día será 10.\n",
        "El coste total será la suma de los costes de cada sesión. Este coste total es la función objetivo que se pretende minimizar.\n",
        "\n",
        "**Restricciones**:\n",
        "\n",
        "La restricción que tiene el problema es que cada sesión puede tener como máximo 6 tomas\n"
      ],
      "metadata": {
        "id": "67p_vszBposu"
      }
    },
    {
      "cell_type": "markdown",
      "source": [
        "#Análisis\n",
        "- ¿Que complejidad tiene el problema?. Orden de complejidad y Contabilizar el espacio de soluciones"
      ],
      "metadata": {
        "id": "HZz52wOppp-U"
      }
    },
    {
      "cell_type": "markdown",
      "source": [
        "**Orden de complejidad:**\n",
        "\n",
        "Para cada iteración la complejidad nos la marca el cálculo del vecindario.\n",
        "\n",
        "Para ello recorremos cuatro bucles anidados\n",
        "\n",
        "\n",
        "*   Primer bucle --> Hasta número de sesiones menos 1\n",
        "*   Segundo bucle --> Desde el valor del contador anterior hasta el número de sesiones.\n",
        "*   Tercer bucle --> Hasta número de tomas por sesión\n",
        "*   Cuarto bucle --> Hasta número de tomas por sesión\n",
        "\n",
        "Por lo que podemos estimar un orden de complejidad O(n^4) siendo n = num tomas total / num tomas máximo por sesión\n",
        "\n",
        "\n",
        "**Espacio de soluciones**\n",
        "\n",
        "Para cada solución parcial se genera un vecindario con un total de 360 nuevas soluciones.\n",
        "\n",
        "\n",
        "\n"
      ],
      "metadata": {
        "id": "R4DMn_x0cDXy"
      }
    },
    {
      "cell_type": "markdown",
      "source": [
        "#Diseño\n",
        "- ¿Que técnica utilizo? ¿Por qué?"
      ],
      "metadata": {
        "id": "ixEJUwH_pv7M"
      }
    },
    {
      "cell_type": "markdown",
      "source": [
        "**Técnica utilizada:**\n",
        "\n",
        "Método heurístico basado en búsqueda tabú.\n",
        "\n",
        "La idea era buscar un método heurístico ya que creo que es más conveniente para este tipo de problemas.\n",
        "\n",
        "Y en concreto me he decantado por la búsqueda tabú porque creo que dada la forma en la que se genera la solución era un método adecuado."
      ],
      "metadata": {
        "id": "A7etm8idiCsG"
      }
    },
    {
      "cell_type": "code",
      "source": [],
      "metadata": {
        "id": "KCqmsdidsuvm"
      },
      "execution_count": 12,
      "outputs": []
    },
    {
      "cell_type": "markdown",
      "source": [
        "DESARROLLO DEL MODELO"
      ],
      "metadata": {
        "id": "oo07p8XTtnGT"
      }
    },
    {
      "cell_type": "code",
      "execution_count": 13,
      "metadata": {
        "id": "p94FOgPUsTSZ"
      },
      "outputs": [],
      "source": [
        "import pandas as pd\n",
        "import numpy as np\n",
        "import copy\n",
        "from time import time"
      ]
    },
    {
      "cell_type": "code",
      "source": [
        "datos=pd.read_csv(\"datos.csv\", sep=\";\")\n"
      ],
      "metadata": {
        "id": "LvdazoVttoCx"
      },
      "execution_count": 14,
      "outputs": []
    },
    {
      "cell_type": "code",
      "source": [
        "def extraer_datos(datos, num_tomas, num_actores):\n",
        "\n",
        "  # Función que extrae los datos del DataFrame y genera dos arrays\n",
        "  # tomas_por_actor --> cada lista contiene las tomas en las que participa cada actor\n",
        "  # actores_por_toma --> cada lista contiene los actores que participan en cada toma\n",
        "\n",
        "  tomas_por_actor=[]\n",
        "  actores_por_toma=[]\n",
        "  for i in range(num_actores):\n",
        "    # Recorre el DataFrame por columnas\n",
        "    lista=datos.index[datos.iloc[:,i] == 1].tolist()\n",
        "    tomas_por_actor.append(lista)\n",
        "  for i in range(num_tomas):\n",
        "    lista = []\n",
        "    for j in range(num_actores):\n",
        "      # Recorre el DataFrame por filas\n",
        "      if datos.iloc[i,j] == 1:\n",
        "        lista.append(j)\n",
        "    actores_por_toma.append(lista)\n",
        "  return tomas_por_actor, actores_por_toma"
      ],
      "metadata": {
        "id": "yxsM6GnQt36b"
      },
      "execution_count": 15,
      "outputs": []
    },
    {
      "cell_type": "code",
      "source": [
        "def solucion_inicial(max_tomas, num_tomas):\n",
        "\n",
        "  # Genera una solución inicial colocando las tomas de forma consecutiva de la 0 a 29\n",
        "\n",
        "  lista=[]\n",
        "  solucion = []\n",
        "  for i in range(num_tomas):\n",
        "    lista.append(i)\n",
        "    if len(lista) == max_tomas:\n",
        "      solucion.append(lista)\n",
        "      lista = []\n",
        "    else:\n",
        "        if i == num_tomas-1:\n",
        "          solucion.append(lista)\n",
        "\n",
        "  return solucion"
      ],
      "metadata": {
        "id": "x7GMmKnSoBoq"
      },
      "execution_count": 16,
      "outputs": []
    },
    {
      "cell_type": "code",
      "source": [
        "def evalua_solucion(solucion, tomas_por_actor, actores_por_toma):\n",
        "\n",
        "  # Evalua la solución viendo cuántos actores distintos hay en cada sesión y sumando todos los costes por sesión\n",
        "\n",
        "  sesion_aux=[]\n",
        "  coste = 0\n",
        "  for i in range(len(solucion)):\n",
        "    sesion_aux=[]\n",
        "    for j in range(len(solucion[i])):\n",
        "      if solucion[i][j] > -1:\n",
        "        sesion_aux+=actores_por_toma[solucion[i][j]]\n",
        "    sesion=set(sesion_aux)\n",
        "    coste+=len(sesion)\n",
        "\n",
        "  return(coste)"
      ],
      "metadata": {
        "id": "wo2HwQS2sSdQ"
      },
      "execution_count": 17,
      "outputs": []
    },
    {
      "cell_type": "code",
      "source": [
        "def genera_vecindario(solucion):\n",
        "\n",
        "  # Para generar el vecindario de una solución parcial vamos intercambiando las tomas de dos en dos entre dos días distintos\n",
        "\n",
        "  vecindario=[]\n",
        "  movimientos=[]\n",
        "  for i in range(len(solucion) - 1):\n",
        "    for j in range(i+1, len(solucion)):\n",
        "      for k in range(len(solucion[i])):\n",
        "        for l in range(len(solucion[j])):\n",
        "          vecino=copy.deepcopy(solucion)\n",
        "          # Guardamos el nuevo vecino\n",
        "          vecino[i][k], vecino[j][l] = vecino[j][l], vecino[i][k]\n",
        "          vecindario.append(vecino)\n",
        "          # Guardamos el movimiento realizado\n",
        "          mov = [vecino[i][k], vecino[j][l]]\n",
        "          movimientos.append(mov)\n",
        "  return vecindario, movimientos\n"
      ],
      "metadata": {
        "id": "0Y413LkKyUnm"
      },
      "execution_count": 18,
      "outputs": []
    },
    {
      "cell_type": "code",
      "source": [
        "def busqueda_tabu(datos, iteraciones, tamano_lista_tabu):\n",
        "\n",
        "    # Inicia el temporizador\n",
        "    start_time = time()\n",
        "\n",
        "    # Extrae el número de filas (num_tomas) y columnas (num_actores) del DataFrame\n",
        "    num_tomas, num_actores = datos.shape\n",
        "    # Extrae los datos del DataFrame\n",
        "    tomas_por_actor, actores_por_toma= extraer_datos(datos, num_tomas, num_actores)\n",
        "    # Genera la solución inicial\n",
        "    solucion_ini=solucion_inicial(max_tomas_sesion, num_tomas)\n",
        "\n",
        "    # Inicializa la mejor solución con la solución inicial\n",
        "    mejor_solucion = copy.deepcopy(solucion_ini)\n",
        "    mejor_vecino = copy.deepcopy(solucion_ini)\n",
        "    mejor_coste = evalua_solucion(mejor_solucion, tomas_por_actor, actores_por_toma)\n",
        "    lista_tabu = []\n",
        "\n",
        "    for i in range(iteraciones):\n",
        "       # En cada iteración genera los vecinos de la solución inicial y los movimientos realizados para generar ese vecindario\n",
        "        vecindario, movimientos = genera_vecindario(mejor_vecino)\n",
        "        mejor_vecino = None\n",
        "        mejor_vecino_coste = float('inf')\n",
        "\n",
        "        #Evalua cada una de las soluciones del vecindario\n",
        "        for vecino in vecindario:\n",
        "            coste_vecino = evalua_solucion(vecino, tomas_por_actor, actores_por_toma)\n",
        "            indice = vecindario.index(vecino)\n",
        "            if (coste_vecino < mejor_vecino_coste) and (movimientos[indice] not in lista_tabu) and (movimientos[indice][::-1] not in lista_tabu):\n",
        "              # Si es el mejor vecino y el movimiento no esta en la lista tabú, almacenamos ese vecino como el mejor\n",
        "              mejor_vecino = vecino\n",
        "              mejor_vecino_coste = coste_vecino\n",
        "              mejor_indice = indice\n",
        "\n",
        "        if mejor_vecino is not None:\n",
        "          if mejor_vecino_coste < mejor_coste:\n",
        "            # Almacenamos el mejor de los vecinos encontrado si es la mejor solución encontrada hasta ese momento\n",
        "            mejor_solucion = mejor_vecino\n",
        "            mejor_coste = mejor_vecino_coste\n",
        "            iter=i\n",
        "            print('[INFO] ---- Mejor solución encontrada:\\n', mejor_solucion)\n",
        "            print('Iteración: ', i, 'Coste: ', mejor_coste, '\\n')\n",
        "\n",
        "          # Almacenamos el movimiento realizado en la lista tabú\n",
        "          lista_tabu.append(movimientos[mejor_indice])\n",
        "\n",
        "          # Si se sobrepasa el tamaño de la lista eliminamos el primer movimiento de la lista\n",
        "          if len(lista_tabu) > tamano_lista_tabu:\n",
        "            lista_tabu.pop(0)\n",
        "        if i % 100 == 0 and i > 0:\n",
        "          print('[INFO] ---- Paso por la iteracion: ', i, '\\n')\n",
        "    elapsed_time = time() - start_time\n",
        "\n",
        "    presentar_solucion(mejor_solucion, mejor_coste, iter, num_tomas, elapsed_time)\n",
        "\n",
        "    return"
      ],
      "metadata": {
        "id": "NQ0bnwMH9NAf"
      },
      "execution_count": 19,
      "outputs": []
    },
    {
      "cell_type": "code",
      "source": [
        "def presentar_solucion(solucion_final, coste, iteracion, num_tomas, elapsed_time):\n",
        "\n",
        "  # Función que presenta los datos de la mejor solución por pantalla\n",
        "  solucion=copy.deepcopy(solucion_final)\n",
        "  for i in range(len(solucion)):\n",
        "    for j in range(max_tomas_sesion):\n",
        "      if (i)*max_tomas_sesion + j >= num_tomas:\n",
        "        break\n",
        "      solucion[i][j]+=1\n",
        "  print('\\n------------------- SOLUCION ------------------- ')\n",
        "  for sesion in range (len(solucion)):\n",
        "    print('Tomas en la sesión', sesion + 1, ':', solucion[sesion])\n",
        "  print('------------------------------------------------ ')\n",
        "  print('Esta distribución de tomas tiene un coste de:',coste)\n",
        "  print('Encontrada en la iteración:', iteracion)\n",
        "  print(\"Tiempo de ejecución: %.4f segundos.\" % elapsed_time)\n",
        "  print('------------------------------------------------ ')"
      ],
      "metadata": {
        "id": "qLKUkOt_vyGX"
      },
      "execution_count": 20,
      "outputs": []
    },
    {
      "cell_type": "code",
      "source": [
        "max_tomas_sesion = 6\n",
        "num_iteraciones = 500\n",
        "tamaño_lista = 30\n",
        "\n",
        "busqueda_tabu(datos, num_iteraciones, tamaño_lista)"
      ],
      "metadata": {
        "colab": {
          "base_uri": "https://localhost:8080/"
        },
        "id": "vQa3PtH0vjFd",
        "outputId": "9ec596f0-9eec-4994-e79e-57c743c215e0"
      },
      "execution_count": 22,
      "outputs": [
        {
          "output_type": "stream",
          "name": "stdout",
          "text": [
            "[INFO] ---- Mejor solución encontrada:\n",
            " [[0, 1, 2, 3, 4, 5], [6, 7, 8, 9, 10, 11], [24, 13, 14, 15, 16, 17], [18, 19, 20, 21, 22, 23], [12, 25, 26, 27, 28, 29]]\n",
            "Iteración:  0 Coste:  35 \n",
            "\n",
            "[INFO] ---- Mejor solución encontrada:\n",
            " [[10, 1, 2, 3, 4, 5], [6, 7, 8, 9, 0, 11], [24, 13, 14, 15, 16, 17], [18, 19, 20, 21, 22, 23], [12, 25, 26, 27, 28, 29]]\n",
            "Iteración:  1 Coste:  34 \n",
            "\n",
            "[INFO] ---- Mejor solución encontrada:\n",
            " [[10, 21, 2, 3, 4, 5], [6, 7, 8, 9, 0, 11], [24, 13, 14, 15, 16, 17], [18, 19, 20, 1, 22, 23], [12, 25, 26, 27, 28, 29]]\n",
            "Iteración:  2 Coste:  33 \n",
            "\n",
            "[INFO] ---- Mejor solución encontrada:\n",
            " [[10, 14, 2, 3, 4, 5], [6, 7, 8, 9, 0, 11], [24, 13, 21, 15, 16, 17], [18, 19, 20, 1, 22, 23], [12, 25, 26, 27, 28, 29]]\n",
            "Iteración:  3 Coste:  32 \n",
            "\n",
            "[INFO] ---- Mejor solución encontrada:\n",
            " [[10, 14, 2, 3, 4, 5], [25, 7, 8, 9, 0, 11], [24, 13, 21, 15, 16, 17], [18, 19, 20, 1, 22, 23], [12, 6, 26, 27, 28, 29]]\n",
            "Iteración:  4 Coste:  31 \n",
            "\n",
            "[INFO] ---- Mejor solución encontrada:\n",
            " [[10, 14, 2, 3, 4, 5], [25, 7, 28, 9, 0, 11], [24, 13, 21, 15, 16, 17], [18, 19, 20, 1, 22, 23], [12, 6, 26, 27, 8, 29]]\n",
            "Iteración:  5 Coste:  30 \n",
            "\n",
            "[INFO] ---- Mejor solución encontrada:\n",
            " [[10, 14, 2, 3, 16, 18], [25, 4, 20, 9, 0, 11], [24, 21, 13, 15, 7, 17], [12, 19, 28, 1, 22, 23], [5, 6, 26, 27, 8, 29]]\n",
            "Iteración:  19 Coste:  29 \n",
            "\n",
            "[INFO] ---- Mejor solución encontrada:\n",
            " [[7, 14, 2, 3, 20, 28], [25, 10, 0, 9, 4, 11], [24, 27, 21, 15, 18, 16], [23, 22, 1, 19, 17, 13], [5, 6, 12, 26, 8, 29]]\n",
            "Iteración:  77 Coste:  28 \n",
            "\n",
            "[INFO] ---- Paso por la iteracion:  100 \n",
            "\n",
            "[INFO] ---- Paso por la iteracion:  200 \n",
            "\n",
            "[INFO] ---- Mejor solución encontrada:\n",
            " [[9, 3, 25, 14, 2, 10], [13, 23, 16, 17, 18, 22], [24, 7, 4, 15, 20, 27], [11, 0, 19, 1, 28, 21], [5, 6, 26, 29, 12, 8]]\n",
            "Iteración:  274 Coste:  27 \n",
            "\n",
            "[INFO] ---- Paso por la iteracion:  300 \n",
            "\n",
            "[INFO] ---- Paso por la iteracion:  400 \n",
            "\n",
            "\n",
            "------------------- SOLUCION ------------------- \n",
            "Tomas en la sesión 1 : [10, 4, 26, 15, 3, 11]\n",
            "Tomas en la sesión 2 : [14, 24, 17, 18, 19, 23]\n",
            "Tomas en la sesión 3 : [25, 8, 5, 16, 21, 28]\n",
            "Tomas en la sesión 4 : [12, 1, 20, 2, 29, 22]\n",
            "Tomas en la sesión 5 : [6, 7, 27, 30, 13, 9]\n",
            "------------------------------------------------ \n",
            "Esta distribución de tomas tiene un coste de: 27\n",
            "Encontrada en la iteración: 274\n",
            "Tiempo de ejecución: 9.6416 segundos.\n",
            "------------------------------------------------ \n"
          ]
        }
      ]
    }
  ]
}