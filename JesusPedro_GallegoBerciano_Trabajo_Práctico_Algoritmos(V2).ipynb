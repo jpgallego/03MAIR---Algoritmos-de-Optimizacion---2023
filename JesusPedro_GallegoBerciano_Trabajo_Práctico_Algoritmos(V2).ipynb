{
  "nbformat": 4,
  "nbformat_minor": 0,
  "metadata": {
    "colab": {
      "provenance": [],
      "include_colab_link": true
    },
    "kernelspec": {
      "name": "python3",
      "display_name": "Python 3"
    }
  },
  "cells": [
    {
      "cell_type": "markdown",
      "metadata": {
        "id": "view-in-github",
        "colab_type": "text"
      },
      "source": [
        "<a href=\"https://colab.research.google.com/github/jpgallego/03MAIR---Algoritmos-de-Optimizacion---2023/blob/main/JesusPedro_GallegoBerciano_Trabajo_Pr%C3%A1ctico_Algoritmos(V2).ipynb\" target=\"_parent\"><img src=\"https://colab.research.google.com/assets/colab-badge.svg\" alt=\"Open In Colab\"/></a>"
      ]
    },
    {
      "cell_type": "markdown",
      "metadata": {
        "id": "hVbXYX-RfPWh"
      },
      "source": [
        "# Algoritmos de optimización - Trabajo Práctico<br>\n",
        "Nombre y Apellidos: Jesus Pedro Gallego Berciano <br>\n",
        "Url: https://github.com/jpgallego/03MAIR---Algoritmos-de-Optimizacion---2023/blob/main/JesusPedro_GallegoBerciano_Trabajo_Pr%C3%A1ctico_Algoritmos(V2).ipynb<br>\n",
        "Google Colab: https://colab.research.google.com/drive/1dys8lzi_hVRC6OMhFM--8iLN9bgFoygb?usp=sharing <br>\n",
        "Problema:\n",
        ">1. Sesiones de doblaje <br>\n",
        "\n",
        "Descripción del problema:(copiar enunciado)\n",
        "\n",
        "Se precisa coordinar el doblaje de una película. Los actores del doblaje deben coincidir en las\n",
        "tomas en las que sus personajes aparecen juntos en las diferentes tomas. Los actores de\n",
        "doblaje cobran todos la misma cantidad por cada día que deben desplazarse hasta el estudio de\n",
        "grabación independientemente del número de tomas que se graben. No es posible grabar más\n",
        "de 6 tomas por día. El objetivo es planificar las sesiones por día de manera que el gasto por los\n",
        "servicios de los actores de doblaje sea el menor posible.\n",
        "\n",
        "\n",
        "\n",
        "\n",
        "\n",
        "\n",
        "\n",
        "                                        "
      ]
    },
    {
      "cell_type": "markdown",
      "source": [
        "#Modelo\n",
        "- ¿Como represento el espacio de soluciones?\n",
        "- ¿Cual es la función objetivo?\n",
        "- ¿Como implemento las restricciones?"
      ],
      "metadata": {
        "id": "Sbo9IqQtpaHZ"
      }
    },
    {
      "cell_type": "markdown",
      "source": [
        "He generado un array con un número de filas igual al número de sesiones (días) y con un número de columnas igual al número de tomas.\n",
        "Si la toma j se dobla el dia i --> el valor [i, j] de ese array tomrá el valor 1 y 0 en caso contrario"
      ],
      "metadata": {
        "id": "67p_vszBposu"
      }
    },
    {
      "cell_type": "code",
      "metadata": {
        "id": "AiskKkzZfy4e"
      },
      "source": [
        "#Respuesta\n"
      ],
      "execution_count": null,
      "outputs": []
    },
    {
      "cell_type": "markdown",
      "source": [
        "#Análisis\n",
        "- ¿Que complejidad tiene el problema?. Orden de complejidad y Contabilizar el espacio de soluciones"
      ],
      "metadata": {
        "id": "HZz52wOppp-U"
      }
    },
    {
      "cell_type": "code",
      "source": [
        "# Pendiente de evaluación\n"
      ],
      "metadata": {
        "id": "CZ-5BmpspttV"
      },
      "execution_count": null,
      "outputs": []
    },
    {
      "cell_type": "markdown",
      "source": [
        "#Diseño\n",
        "- ¿Que técnica utilizo? ¿Por qué?"
      ],
      "metadata": {
        "id": "ixEJUwH_pv7M"
      }
    },
    {
      "cell_type": "code",
      "source": [
        "# Algoritmo basado en búsqueda tabú"
      ],
      "metadata": {
        "id": "ZdKPjB9gp2BA"
      },
      "execution_count": 2,
      "outputs": []
    },
    {
      "cell_type": "code",
      "source": [],
      "metadata": {
        "id": "KCqmsdidsuvm"
      },
      "execution_count": null,
      "outputs": []
    },
    {
      "cell_type": "markdown",
      "source": [
        "DESARROLLO DEL MODELO"
      ],
      "metadata": {
        "id": "oo07p8XTtnGT"
      }
    },
    {
      "cell_type": "code",
      "execution_count": null,
      "metadata": {
        "id": "p94FOgPUsTSZ"
      },
      "outputs": [],
      "source": [
        "import pandas as pd\n",
        "import numpy as np\n",
        "import math"
      ]
    },
    {
      "cell_type": "code",
      "source": [
        "datos=pd.read_csv(\"datos.csv\", sep=\";\")\n",
        "toma_actor = datos.to_numpy()\n",
        "toma_actor"
      ],
      "metadata": {
        "colab": {
          "base_uri": "https://localhost:8080/"
        },
        "id": "LvdazoVttoCx",
        "outputId": "8f6abaf7-a89b-4894-e806-ab29e9d3d0bf"
      },
      "execution_count": null,
      "outputs": [
        {
          "output_type": "execute_result",
          "data": {
            "text/plain": [
              "array([[1, 1, 1, 1, 1, 0, 0, 0, 0, 0],\n",
              "       [0, 0, 1, 1, 1, 0, 0, 0, 0, 0],\n",
              "       [0, 1, 0, 0, 1, 0, 1, 0, 0, 0],\n",
              "       [1, 1, 0, 0, 0, 0, 1, 1, 0, 0],\n",
              "       [0, 1, 0, 1, 0, 0, 0, 1, 0, 0],\n",
              "       [1, 1, 0, 1, 1, 0, 0, 0, 0, 0],\n",
              "       [1, 1, 0, 1, 1, 0, 0, 0, 0, 0],\n",
              "       [1, 1, 0, 0, 0, 1, 0, 0, 0, 0],\n",
              "       [1, 1, 0, 1, 0, 0, 0, 0, 0, 0],\n",
              "       [1, 1, 0, 0, 0, 1, 0, 0, 1, 0],\n",
              "       [1, 1, 1, 0, 1, 0, 0, 1, 0, 0],\n",
              "       [1, 1, 1, 1, 0, 1, 0, 0, 0, 0],\n",
              "       [1, 0, 0, 1, 1, 0, 0, 0, 0, 0],\n",
              "       [1, 0, 1, 0, 0, 1, 0, 0, 0, 0],\n",
              "       [1, 1, 0, 0, 0, 0, 1, 0, 0, 0],\n",
              "       [0, 0, 0, 1, 0, 0, 0, 0, 0, 1],\n",
              "       [1, 0, 1, 0, 0, 0, 0, 0, 0, 0],\n",
              "       [0, 0, 1, 0, 0, 1, 0, 0, 0, 0],\n",
              "       [1, 0, 1, 0, 0, 0, 0, 0, 0, 0],\n",
              "       [1, 0, 1, 1, 1, 0, 0, 0, 0, 0],\n",
              "       [0, 0, 0, 0, 0, 1, 0, 1, 0, 0],\n",
              "       [1, 1, 1, 1, 0, 0, 0, 0, 0, 0],\n",
              "       [1, 0, 1, 0, 0, 0, 0, 0, 0, 0],\n",
              "       [0, 0, 1, 0, 0, 1, 0, 0, 0, 0],\n",
              "       [1, 1, 0, 1, 0, 0, 0, 0, 0, 1],\n",
              "       [1, 0, 1, 0, 1, 0, 0, 0, 1, 0],\n",
              "       [0, 0, 0, 1, 1, 0, 0, 0, 0, 0],\n",
              "       [1, 0, 0, 1, 0, 0, 0, 0, 0, 0],\n",
              "       [1, 0, 0, 0, 1, 1, 0, 0, 0, 0],\n",
              "       [1, 0, 0, 1, 0, 0, 0, 0, 0, 0]])"
            ]
          },
          "metadata": {},
          "execution_count": 3
        }
      ]
    },
    {
      "cell_type": "code",
      "source": [
        "def solucion_inicial():\n",
        "  # Esta solucion inicial consiste en colocar las tomas de forma sucesiva en días consecutivos\n",
        "  # Falta calcular el número de días\n",
        "  num_dias = math.ceil(num_tomas/max_tomas_sesion)\n",
        "  sesion_toma =np.zeros((num_dias,num_tomas))\n",
        "  for i in range(num_dias):\n",
        "    for j in range(max_tomas_sesion):\n",
        "      if j + max_tomas_sesion*i < num_tomas:\n",
        "        sesion_toma[i][j + max_tomas_sesion*i] = 1\n",
        "  return sesion_toma\n",
        "\n",
        "\n",
        "# def solucion_inicial(num):\n",
        "#   solucion = np.eye(num)\n",
        "#   return solucion"
      ],
      "metadata": {
        "id": "yr0Jn7iVtw9a"
      },
      "execution_count": null,
      "outputs": []
    },
    {
      "cell_type": "code",
      "source": [
        "def evalua_solucion(solucion, toma_actor):\n",
        "  coste = 0\n",
        "  sesion_actor = np.dot(solucion, toma_actor)\n",
        "  dias, actores = sesion_actor.shape\n",
        "  for i in range(dias):\n",
        "    for j in range(actores):\n",
        "      if sesion_actor[i][j] > 0:\n",
        "        coste += 1\n",
        "  return coste"
      ],
      "metadata": {
        "id": "rLRHseoPFQwL"
      },
      "execution_count": null,
      "outputs": []
    },
    {
      "cell_type": "code",
      "source": [
        "def validez_solucion(solucion):\n",
        "  validez = True\n",
        "  for i in range(len(solucion)):\n",
        "    suma = solucion[i].sum()\n",
        "    if suma > max_tomas_sesion:\n",
        "      validez = False\n",
        "  return validez"
      ],
      "metadata": {
        "id": "Lrub5XQQKDci"
      },
      "execution_count": null,
      "outputs": []
    },
    {
      "cell_type": "code",
      "source": [
        "def generar_vecindario(solucion):\n",
        "  vecindario=[]\n",
        "  movimientos=[]\n",
        "  num_sesion, tomas = solucion.shape\n",
        "  # recorrer todas las combinaciones de días para intercambiar dos tomas\n",
        "  for i in range(num_sesion-1):\n",
        "    for j in range(i + 1, num_sesion):\n",
        "      for toma_i in range(tomas-1):\n",
        "        if solucion[i][toma_i] != solucion[i][toma_i +1] and solucion[j][toma_i] != solucion[j][toma_i +1]:\n",
        "          vecino = intercambio_toma(solucion, i, j, toma_i)\n",
        "          print(vecino)\n",
        "          if validez_solucion(vecino):\n",
        "            vecindario.append(vecino)\n",
        "\n",
        "            mov_actual=[i, j, toma_i]\n",
        "            movimientos.append(mov_actual)\n",
        "  return vecindario"
      ],
      "metadata": {
        "id": "0n6WsL3gZ91h"
      },
      "execution_count": null,
      "outputs": []
    },
    {
      "cell_type": "code",
      "source": [
        "def intercambio_toma(sol_vec, dia1, dia2, toma_dia1):\n",
        "  sol = sol_vec.copy()\n",
        "  sol[dia1][toma_dia1], sol[dia2][toma_dia1 + 1] = sol[dia2][toma_dia1 + 1], sol[dia1][toma_dia1]\n",
        "  sol[dia1][toma_dia1 + 1], sol[dia2][toma_dia1] = sol[dia2][toma_dia1], sol[dia1][toma_dia1 + 1]\n",
        "  return sol\n"
      ],
      "metadata": {
        "id": "uT5G5IF5G1Ni"
      },
      "execution_count": null,
      "outputs": []
    },
    {
      "cell_type": "code",
      "source": [
        "def busqueda_tabu(toma_actor, sol, iteraciones, tamano_lista_tabu):\n",
        "    mejor_solucion = sol.copy()\n",
        "    mejor_coste = evalua_solucion(mejor_solucion, toma_actor)\n",
        "    lista_tabu = []\n",
        "\n",
        "    for _ in range(iteraciones):\n",
        "        vecindario = generar_vecindario(mejor_solucion)\n",
        "        mejor_vecino = None\n",
        "        mejor_vecino_coste = float('inf')\n",
        "\n",
        "        for vecino in vecindario:\n",
        "            coste_vecino = evalua_solucion(vecino, toma_actor)\n",
        "            #indice = vecindario.index(vecino)\n",
        "            if (coste_vecino < mejor_vecino_coste):# and (vecino not in lista_tabu):\n",
        "                mejor_vecino = vecino\n",
        "                mejor_vecino_coste = coste_vecino\n",
        "\n",
        "        if mejor_vecino is not None:\n",
        "            mejor_solucion = mejor_vecino\n",
        "            mejor_coste = mejor_vecino_coste\n",
        "            lista_tabu.append(mejor_vecino)\n",
        "            if len(lista_tabu) > tamano_lista_tabu:\n",
        "                lista_tabu.pop(0)\n",
        "\n",
        "    return mejor_solucion, mejor_coste"
      ],
      "metadata": {
        "id": "0XnT7XT99SHx"
      },
      "execution_count": null,
      "outputs": []
    },
    {
      "cell_type": "code",
      "source": [
        "num_tomas, num_actores = toma_actor.shape\n",
        "max_tomas_sesion = 2\n",
        "#solucion = solucion_inicial(num_tomas, max_tomas_sesion)\n",
        "solucion_ini= solucion_inicial()\n",
        "print(solucion_ini)\n",
        "prueba = generar_vecindario(solucion_ini)\n",
        "#print(len(prueba))\n",
        "#print(prueba)\n",
        "#coste = evalua_solucion(solucion_ini, toma_actor)\n",
        "#print(solucion)\n",
        "#generar_vecindario(solucion)\n",
        "#print(coste)\n",
        "#print(validez_solucion(solucion))\n",
        "iteraciones =100\n",
        "tamano_lista_tabu = 20\n",
        "#mejor_solucion, mejor_coste = busqueda_tabu(toma_actor, solucion_ini, iteraciones, tamano_lista_tabu)\n",
        "#print(mejor_solucion, mejor_coste)\n"
      ],
      "metadata": {
        "colab": {
          "base_uri": "https://localhost:8080/"
        },
        "id": "vQa3PtH0vjFd",
        "outputId": "fc78c19c-3832-4efa-db8d-b0c5f242be66"
      },
      "execution_count": null,
      "outputs": [
        {
          "output_type": "stream",
          "name": "stdout",
          "text": [
            "[[1. 1. 0. 0. 0. 0. 0. 0. 0.]\n",
            " [0. 0. 1. 1. 0. 0. 0. 0. 0.]\n",
            " [0. 0. 0. 0. 1. 1. 0. 0. 0.]\n",
            " [0. 0. 0. 0. 0. 0. 1. 1. 0.]\n",
            " [0. 0. 0. 0. 0. 0. 0. 0. 1.]]\n",
            "[[1. 1. 0. 0. 0. 0. 0. 0. 0.]\n",
            " [0. 0. 1. 1. 0. 0. 0. 0. 0.]\n",
            " [0. 0. 0. 0. 1. 1. 0. 0. 0.]\n",
            " [0. 0. 0. 0. 0. 0. 1. 1. 0.]\n",
            " [0. 0. 0. 0. 0. 0. 0. 0. 1.]]\n",
            "[[1. 1. 0. 0. 0. 0. 0. 0. 0.]\n",
            " [0. 0. 1. 1. 0. 0. 0. 0. 0.]\n",
            " [0. 0. 0. 0. 1. 1. 0. 0. 0.]\n",
            " [0. 0. 0. 0. 0. 0. 1. 1. 0.]\n",
            " [0. 0. 0. 0. 0. 0. 0. 0. 1.]]\n",
            "[[1. 1. 0. 0. 0. 0. 0. 0. 0.]\n",
            " [0. 0. 1. 1. 0. 0. 0. 0. 0.]\n",
            " [0. 0. 0. 0. 1. 1. 0. 0. 0.]\n",
            " [0. 0. 0. 0. 0. 0. 1. 1. 0.]\n",
            " [0. 0. 0. 0. 0. 0. 0. 0. 1.]]\n",
            "[[1. 1. 0. 0. 0. 0. 0. 0. 0.]\n",
            " [0. 0. 1. 1. 0. 0. 0. 0. 0.]\n",
            " [0. 0. 0. 0. 1. 1. 0. 0. 0.]\n",
            " [0. 0. 0. 0. 0. 0. 1. 1. 0.]\n",
            " [0. 0. 0. 0. 0. 0. 0. 0. 1.]]\n"
          ]
        }
      ]
    },
    {
      "cell_type": "code",
      "source": [],
      "metadata": {
        "id": "5Bg8E9UlBtS-"
      },
      "execution_count": null,
      "outputs": []
    },
    {
      "cell_type": "code",
      "source": [],
      "metadata": {
        "id": "0B0e96m1-fQy"
      },
      "execution_count": null,
      "outputs": []
    }
  ]
}